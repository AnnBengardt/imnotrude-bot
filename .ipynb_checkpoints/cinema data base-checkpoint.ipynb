{
 "cells": [
  {
   "cell_type": "code",
   "execution_count": 2,
   "metadata": {},
   "outputs": [],
   "source": [
    "import sqlite3\n",
    "import requests\n",
    "from bs4 import BeautifulSoup\n",
    "import re"
   ]
  },
  {
   "cell_type": "code",
   "execution_count": 17,
   "metadata": {},
   "outputs": [],
   "source": [
    "from datetime import datetime"
   ]
  },
  {
   "cell_type": "code",
   "execution_count": 6,
   "metadata": {},
   "outputs": [],
   "source": [
    "def remove_all(string):\n",
    "    pattern = re.compile(r'[А-Яа-яёЁ0-9 ]+')\n",
    "    return pattern.findall(string)[0].strip()"
   ]
  },
  {
   "cell_type": "code",
   "execution_count": 7,
   "metadata": {},
   "outputs": [],
   "source": [
    "def find_all_theaters_KARO(theatres):\n",
    "    dicti = {}\n",
    "    metro_class = 'cinemalist__cinema-item__metro__station-list__station-item'\n",
    "    for theater in theatres:\n",
    "        dicti[theater.findAll('h4')[0].text[1:]] = {\n",
    "            'metro': [remove_all(i.text) for i in theater.findAll('li', class_=metro_class)], \n",
    "            'address': theater.findAll('p')[0].text.split('+')[0].strip(),\n",
    "            'phone': '+' + theater.findAll('p')[0].text.split('+')[-1],\n",
    "            'data-id': theater['data-id']\n",
    "        }\n",
    "    return dicti"
   ]
  },
  {
   "cell_type": "code",
   "execution_count": 8,
   "metadata": {},
   "outputs": [],
   "source": [
    "url = \"https://karofilm.ru\"\n",
    "url_theaters = url + \"/theatres\""
   ]
  },
  {
   "cell_type": "code",
   "execution_count": 9,
   "metadata": {},
   "outputs": [],
   "source": [
    "r = requests.get(url_theaters)\n",
    "if r.status_code == 200:\n",
    "    soup = BeautifulSoup(r.text, \"html.parser\")\n",
    "    theatres = soup.findAll('li', class_='cinemalist__cinema-item')\n",
    "    karo_theatres = find_all_theaters_KARO(theatres)\n",
    "else:\n",
    "    print(\"Страница не найдена\")"
   ]
  },
  {
   "cell_type": "code",
   "execution_count": 3,
   "metadata": {},
   "outputs": [],
   "source": [
    "conn = sqlite3.connect(\"cinemabot.db\")\n",
    "cursor = conn.cursor()"
   ]
  },
  {
   "cell_type": "code",
   "execution_count": 7,
   "metadata": {},
   "outputs": [
    {
     "data": {
      "text/plain": [
       "<sqlite3.Cursor at 0x2369576f2d0>"
      ]
     },
     "execution_count": 7,
     "metadata": {},
     "output_type": "execute_result"
    }
   ],
   "source": [
    "cursor.execute(\"\"\"CREATE TABLE IF NOT EXISTS brand(\n",
    "                id integer PRIMARY KEY,\n",
    "                name text NOT NULL\n",
    "                )\"\"\")"
   ]
  },
  {
   "cell_type": "code",
   "execution_count": 5,
   "metadata": {},
   "outputs": [
    {
     "data": {
      "text/plain": [
       "<sqlite3.Cursor at 0x1d9bb88a570>"
      ]
     },
     "execution_count": 5,
     "metadata": {},
     "output_type": "execute_result"
    }
   ],
   "source": [
    "cursor.execute(\"\"\"CREATE TABLE IF NOT EXISTS cinema_halls(\n",
    "                id integer PRIMARY KEY,\n",
    "                brand_id integer Not NULL,\n",
    "                name text NOT NULL,\n",
    "                address text NOT NULL,\n",
    "                metro text NOT NULL,\n",
    "                phone text NOT NULL,\n",
    "                FOREIGN KEY (brand_id) REFERENCES brand(id)\n",
    "                )\"\"\")"
   ]
  },
  {
   "cell_type": "code",
   "execution_count": 40,
   "metadata": {},
   "outputs": [
    {
     "data": {
      "text/plain": [
       "<sqlite3.Cursor at 0x1c744bd8ea0>"
      ]
     },
     "execution_count": 40,
     "metadata": {},
     "output_type": "execute_result"
    }
   ],
   "source": [
    "cursor.execute(\"\"\"CREATE TABLE IF NOT EXISTS cinemas(\n",
    "                id integer PRIMARY KEY,\n",
    "                name text NOT NULL,\n",
    "                duration integer NOT NULL,\n",
    "                genres text NOT NULL\n",
    "                )\"\"\")"
   ]
  },
  {
   "cell_type": "code",
   "execution_count": 41,
   "metadata": {},
   "outputs": [
    {
     "data": {
      "text/plain": [
       "<sqlite3.Cursor at 0x1c744bd8ea0>"
      ]
     },
     "execution_count": 41,
     "metadata": {},
     "output_type": "execute_result"
    }
   ],
   "source": [
    "cursor.execute(\"\"\"CREATE TABLE IF NOT EXISTS sessions(\n",
    "                id integer PRIMARY KEY,\n",
    "                cinema_id integer Not NULL,\n",
    "                hall_id integer Not NULL,\n",
    "                name text NOT NULL,\n",
    "                date date NOT NULL,\n",
    "                time time NOT NULL,\n",
    "                price integer NOT NULL,\n",
    "                FOREIGN KEY (cinema_id) REFERENCES cinemas(id),\n",
    "                FOREIGN KEY (hall_id) REFERENCES cinema_halls(id),\n",
    "                FOREIGN KEY (name) REFERENCES cinemas(id)\n",
    "                )\"\"\")"
   ]
  },
  {
   "cell_type": "code",
   "execution_count": 12,
   "metadata": {},
   "outputs": [],
   "source": [
    "cursor.execute(\"insert into brand values (1, 'КАРО')\")\n",
    "cursor.execute(\"insert into brand values (2, 'Синема Парк')\")\n",
    "cursor.execute(\"insert into brand values (3, 'Люксор')\")\n",
    "conn.commit()"
   ]
  },
  {
   "cell_type": "code",
   "execution_count": 13,
   "metadata": {},
   "outputs": [
    {
     "data": {
      "text/plain": [
       "[(1, 'КАРО'), (2, 'Синема Парк'), (3, 'Люксор')]"
      ]
     },
     "execution_count": 13,
     "metadata": {},
     "output_type": "execute_result"
    }
   ],
   "source": [
    "cursor.execute('select * from brand').fetchall()"
   ]
  },
  {
   "cell_type": "code",
   "execution_count": 10,
   "metadata": {},
   "outputs": [],
   "source": [
    "for key, item in karo_theatres.items():\n",
    "    elements=[1,key,item['address'],', '.join(item['metro']),item['phone']]\n",
    "    cursor.execute(\"insert into cinema_halls (brand_id, name, address, metro, phone) values ({},'{}','{}','{}','{}')\".format(*elements))\n",
    "conn.commit()"
   ]
  },
  {
   "cell_type": "code",
   "execution_count": 42,
   "metadata": {},
   "outputs": [],
   "source": [
    "r2 = requests.get(url)\n",
    "if r2.status_code == 200:\n",
    "    soup = BeautifulSoup(r2.text, 'html.parser')\n",
    "    films = soup.findAll('div', class_ = 'afisha-item-inner')\n",
    "    for film in films:\n",
    "        film_name = film.findAll('h3', class_ = \"afisha-title\")[0].text\n",
    "        film_duration = film.findAll('span', class_ = 'afisha-duration-time')[0].text\n",
    "        try:\n",
    "            film_genres = film.findAll('p', class_ = 'afisha-genre')[0].text\n",
    "        except IndexError:\n",
    "            film_genres = 'undefined'\n",
    "        elements = [film_name, film_duration, film_genres]\n",
    "        try:\n",
    "            cursor.execute(\"insert into cinemas (name, duration, genres) values ('{}', '{}', '{}')\".format(*elements))\n",
    "        except sqlite3.OperationalError:\n",
    "            continue\n",
    "    conn.commit()\n",
    "else:\n",
    "    print('page not found')"
   ]
  },
  {
   "cell_type": "code",
   "execution_count": 43,
   "metadata": {},
   "outputs": [],
   "source": [
    "def cinema_id_get(name, cinemas):\n",
    "    for el in cinemas:\n",
    "        if name == el[1]:\n",
    "            return el[0]\n",
    "    for el in cinemas:\n",
    "        if (name in el[1]) or (el[1] in name):\n",
    "            return el[0]"
   ]
  },
  {
   "cell_type": "code",
   "execution_count": 44,
   "metadata": {},
   "outputs": [],
   "source": [
    "films_class = 'cinema-page-item__schedule__row'\n",
    "table_class = 'cinema-page-item__schedule__row__board-row'\n",
    "left_class = table_class + '__left'\n",
    "rignt_class = table_class + '__right'\n",
    "date_class = 'widget-select'\n",
    "for theater in karo_theatres:\n",
    "    dates = {}\n",
    "    url_theater_id = url_theaters + '?id=' + karo_theatres[theater]['data-id']\n",
    "    r3 = requests.get(url_theater_id)\n",
    "    if r3.status_code == 200:\n",
    "        date_parser = BeautifulSoup(r3.text,'html.parser')\n",
    "        date_list = date_parser.findAll('select',class_ = date_class)[0]\n",
    "        date_list = [i['data-id'] for i in date_list.findAll('option')]\n",
    "        for date in date_list: \n",
    "            url_theater_id_date = url_theater_id + '&date=' + date\n",
    "            r4 = requests.get(url_theater_id_date)\n",
    "            session = {}\n",
    "            if r4.status_code == 200:\n",
    "                films_parser = BeautifulSoup(r4.text,'html.parser')\n",
    "                films_list = films_parser.findAll('div', class_ = films_class)\n",
    "                for film in films_list:\n",
    "                    name = film.findAll('h3')\n",
    "                    if name:\n",
    "                        name = name[0].text.split(', ')\n",
    "                        session_time = {}\n",
    "                        session_time['age'] = name[1]\n",
    "                        for i in film.findAll('div', class_ = table_class):\n",
    "                            time_D = i.findAll('div', class_ = left_class)[0].text.strip()\n",
    "                            time = i.findAll('div', class_ = rignt_class)[0].findAll('a')\n",
    "                            time = [j.text for j in time]\n",
    "                            session_time[time_D] = time\n",
    "                            for time_element in time:\n",
    "                                cinema_id = cinema_id_get(name[0], cursor.execute('select * from cinemas').fetchall())\n",
    "                                if cinema_id == None:\n",
    "                                    cinema_id = 0\n",
    "                                hall_id = cursor.execute(f'select id from cinema_halls where name=\\'{theater}\\'').fetchall()[0][0]\n",
    "                                values = [cinema_id, hall_id, name[0], date, time_element, 0]\n",
    "                                try:\n",
    "                                    cursor.execute(\"insert into sessions (cinema_id, hall_id, name, date, time, price) values ({},{},'{}','{}', '{}', {})\".format(*values))\n",
    "                                except sqlite3.OperationalError:\n",
    "                                    continue\n",
    "                        session[name[0]] = session_time\n",
    "            else:\n",
    "                print('Ненаход даты, url=', url_theater_id_date)\n",
    "            dates[date]=session\n",
    "    else:\n",
    "        print('Ненаход кинотеатра, url=', url_theater_id)\n",
    "    karo_theatres[theater]['dates'] = dates\n",
    "conn.commit()"
   ]
  },
  {
   "cell_type": "code",
   "execution_count": 11,
   "metadata": {},
   "outputs": [],
   "source": [
    "url = \"https://kinoteatr.ru\"\n",
    "url_theatres = url + \"/raspisanie-kinoteatrov\"\n",
    "url_films = url + \"/kinoafisha\""
   ]
  },
  {
   "cell_type": "code",
   "execution_count": 12,
   "metadata": {},
   "outputs": [],
   "source": [
    "def tab_delete(name):\n",
    "    pattern = re.compile(r'[А-Яа-яёЁ0-9.,-:]+')\n",
    "    res = ' '.join(pattern.findall(name))\n",
    "    return res\n",
    "\n",
    "def number(price):\n",
    "    pattern = re.compile(r'[0-9]+')\n",
    "    res = ' '.join(pattern.findall(price))\n",
    "    return res\n",
    "\n",
    "def tab_delete_name(name):\n",
    "    pattern = re.compile(r'\\w+[:,.!?]?')\n",
    "    res = ' '.join(pattern.findall(name))\n",
    "    return res\n",
    "\n",
    "def date_maker(date):\n",
    "    pattern = re.compile(r'[0-9]+-[0-9]+-[0-9]+')\n",
    "    res = ', '.join(pattern.findall(date))\n",
    "    return res"
   ]
  },
  {
   "cell_type": "code",
   "execution_count": 13,
   "metadata": {},
   "outputs": [],
   "source": [
    "r = requests.get(url_theatres)\n",
    "if r.status_code == 200:\n",
    "    soup = BeautifulSoup(r.text, \"html.parser\")\n",
    "    theatres = soup.findAll('div', class_ = \"col-md-12 cinema_card\")\n",
    "    for theatre in theatres:\n",
    "        name = tab_delete(theatre.findAll('h3', class_ = \"title movie_card_title\")[0].text)\n",
    "        metro = [tab_delete(i) for i in theatre.findAll('span', class_ = \"sub_title\")[1] if ('\\n' in i) and (len(i) > 2)]\n",
    "        address = tab_delete(theatre.findAll('span', class_ = \"sub_title\")[0].text)\n",
    "        phone = 'unknown'\n",
    "        values = [2, name, address, ', '.join(metro), phone]\n",
    "        #cursor.execute(\"insert into cinema_halls (brand_id, name, address, metro, phone) values ({},'{}','{}','{}','{}')\".format(*values))\n",
    "    #conn.commit()\n",
    "else:\n",
    "    print('page not found')"
   ]
  },
  {
   "cell_type": "code",
   "execution_count": 59,
   "metadata": {},
   "outputs": [
    {
     "name": "stdout",
     "output_type": "stream",
     "text": [
      "0 мин\n",
      "85 мин\n",
      "123 мин\n",
      "92 мин\n",
      "103 мин\n",
      "115 мин\n",
      "45 мин\n",
      "92 мин\n",
      "91 мин\n",
      "47 мин\n",
      "103 мин\n",
      "90 мин\n"
     ]
    }
   ],
   "source": [
    "r2 = requests.get(url_films)\n",
    "if r2.status_code == 200:\n",
    "    soup = BeautifulSoup(r2.text, \"html.parser\")\n",
    "    films = soup.findAll('div', class_ = \"col-md-2 col-sm-6 col-xs-12 movie_card\")\n",
    "    for film in films:\n",
    "        count = 0\n",
    "        name = tab_delete_name(film.findAll('span', class_ = \"movie_card_header title\")[0].text)\n",
    "        name_2 = cursor.execute('select name from cinemas').fetchall()\n",
    "        for i in name_2:\n",
    "            if name in i[0]:\n",
    "                count += 1\n",
    "        if count == 0:\n",
    "            try:\n",
    "                duration = tab_delete(film.findAll('span', class_ = \"hide-md title\")[0].text)\n",
    "            except IndexError:\n",
    "                duration = '0 мин'\n",
    "            print(duration)\n",
    "            genres = [tab_delete(i.text) for i in film.findAll('span', class_ = \"hidden\", itemprop = \"genre\")]\n",
    "            values = [name, duration.split()[0], ', '.join(genres)]\n",
    "            try:\n",
    "                cursor.execute(\"insert into cinemas (name, duration, genres) values ('{}', {},'{}')\".format(*values))\n",
    "            except sqlite3.OperationalError:\n",
    "                continue\n",
    "    conn.commit()\n",
    "else:\n",
    "    print('page not found')"
   ]
  },
  {
   "cell_type": "code",
   "execution_count": 60,
   "metadata": {},
   "outputs": [],
   "source": [
    "halls = ['/belaya-dacha', '/butovo-mall', '/waypark', '/global-city', '/gorizont', '/evropa', '/zelenopark', '/kaluzhskij', '/kutuzovskiy', '/ladoga', '/lefortovo', '/metropolis', '/michurinsky', '/mozhayka', '/oblaka', '/polezhaevskiy', '/5avenu', '/rivera', '/semenovsky', '/city', '/tepliy-stan', '/filion', '/mega-himki', '/cdm', '/chertanovo']"
   ]
  },
  {
   "cell_type": "code",
   "execution_count": 61,
   "metadata": {},
   "outputs": [],
   "source": [
    "k = 0\n",
    "hall_id = 17\n",
    "cinema_id = 0\n",
    "for theatre in theatres:\n",
    "    url_table = url_theatres + halls[k]\n",
    "    k += 1\n",
    "    r3 = requests.get(url_table)\n",
    "    if r3.status_code == 200:\n",
    "        dates = []\n",
    "        soup = BeautifulSoup(r3.text, \"html.parser\")\n",
    "        date_parser = soup.findAll('input', class_ = \"single_card_date_input\")\n",
    "        for date in date_maker(str(date_parser)).split(', '):\n",
    "            if date not in dates:\n",
    "                dates.append(date)\n",
    "        for date in dates:\n",
    "            url_date = url_table + '/?date=' + date\n",
    "            r4 = requests.get(url_date)\n",
    "            if r4.status_code == 200:\n",
    "                schedule = BeautifulSoup(r4.text, \"html.parser\")\n",
    "                films = schedule.findAll('div', class_ = 'shedule_movie')\n",
    "                for film in films:\n",
    "                    money = []\n",
    "                    n = 0\n",
    "                    title = film.findAll('span', class_ = \"movie_card_header title\")\n",
    "                    name = tab_delete_name(title[0].text)\n",
    "                    cinema_id = cinema_id_get(name, cursor.execute('select * from cinemas').fetchall())\n",
    "                    sessions = film.findAll('span', class_ = \"shedule_session_time\")\n",
    "                    prices = film.findAll('span', class_ = \"shedule_session_price\")\n",
    "                    for price in prices:\n",
    "                        money.append(number(price.text))\n",
    "                    for session in sessions:\n",
    "                        time = tab_delete(session.text)\n",
    "                        values = [cinema_id, hall_id, name, date, time, money[n]]\n",
    "                        n += 1\n",
    "                        try:\n",
    "                            cursor.execute(\"insert into sessions (cinema_id, hall_id, name, date, time, price) values ({},{},'{}','{}', '{}', {})\".format(*values))\n",
    "                        except sqlite3.OperationalError:\n",
    "                            continue\n",
    "            else:\n",
    "                print('sessions not found')\n",
    "    else:\n",
    "        print('page not found')\n",
    "    hall_id += 1\n",
    "    conn.commit()"
   ]
  },
  {
   "cell_type": "code",
   "execution_count": 14,
   "metadata": {},
   "outputs": [],
   "source": [
    "values1 = [3, 'Люксор Весна', '84-й км МКАД, ТЦ \"Весна\"', 'Алтуфьево', 'unknown']\n",
    "values2 = [3, 'Люксор Гудзон', 'Каширское шоссе, д. 14', 'Варшавская, Каховская', 'unknown']\n",
    "cursor.execute(\"insert into cinema_halls (brand_id, name, address, metro, phone) values ({}, '{}', '{}', '{}', '{}')\".format(*values1))\n",
    "cursor.execute(\"insert into cinema_halls (brand_id, name, address, metro, phone) values ({}, '{}', '{}', '{}', '{}')\".format(*values2))\n",
    "conn.commit()"
   ]
  },
  {
   "cell_type": "code",
   "execution_count": 62,
   "metadata": {},
   "outputs": [],
   "source": [
    "luxor_url = 'https://www.luxorfilm.ru/'"
   ]
  },
  {
   "cell_type": "code",
   "execution_count": 63,
   "metadata": {},
   "outputs": [],
   "source": [
    "def link_finder(string):\n",
    "    pattern = re.compile(r'/moscow/film/[0-9]+/[A-Za-z-0-9]+')\n",
    "    res = ''.join(pattern.findall(string))\n",
    "    return res\n",
    "\n",
    "def times(time):\n",
    "    pattern = re.compile(r'[0-9]?[0-9]+')\n",
    "    res = pattern.findall(time)\n",
    "    return res"
   ]
  },
  {
   "cell_type": "code",
   "execution_count": 64,
   "metadata": {},
   "outputs": [],
   "source": [
    "r5 = requests.get(luxor_url)\n",
    "if r5.status_code == 200:\n",
    "    filmlist = BeautifulSoup(r5.text, 'html.parser')\n",
    "    films = filmlist.findAll('li', class_ = \"film\")\n",
    "    for film in films:\n",
    "        count = 0\n",
    "        title = film.findAll('span')\n",
    "        if len(title) == 1:\n",
    "            name = title[0].text\n",
    "        elif len(title) >= 2:\n",
    "            name = title[0].text + ': ' + title[1].text\n",
    "        else:\n",
    "            name = None\n",
    "        if name:\n",
    "            name_2 = cursor.execute('select name from cinemas').fetchall()\n",
    "            for i in name_2:\n",
    "                if name in i[0] or i[0] in name:\n",
    "                    count += 1\n",
    "            if count == 0:    \n",
    "                link = luxor_url + link_finder(str(film.findAll('a', class_ = 'film-page-link')[0]))\n",
    "                r6 = requests.get(link)\n",
    "                if r6.status_code == 200:\n",
    "                    page = BeautifulSoup(r6.text, 'html.parser')\n",
    "                    details = page.findAll('td')\n",
    "                    duration = times(details[7].text)\n",
    "                    time = int(duration[0])*60 + int(duration[1])\n",
    "                    genres = details[5].text\n",
    "                    values = [name, time, genres]\n",
    "                    try:\n",
    "                        cursor.execute(\"insert into cinemas (name, duration, genres) values ('{}', {},'{}')\".format(*values))\n",
    "                    except sqlite3.OperationalError:\n",
    "                        continue\n",
    "                else:\n",
    "                    print('film not found')\n",
    "    conn.commit()\n",
    "else:\n",
    "    print('page not found')"
   ]
  },
  {
   "cell_type": "code",
   "execution_count": 65,
   "metadata": {},
   "outputs": [],
   "source": [
    "url1 = 'https://www.luxorfilm.ru/cinema/vesna/'\n",
    "url2 = 'https://www.luxorfilm.ru/cinema/goodzone/'"
   ]
  },
  {
   "cell_type": "code",
   "execution_count": 66,
   "metadata": {},
   "outputs": [],
   "source": [
    "r7 = requests.get(url1)\n",
    "if r7.status_code == 200:\n",
    "    page = BeautifulSoup(r7.text, 'html.parser')\n",
    "    films = page.findAll('h3')\n",
    "    filmlist = []\n",
    "    for film in films:\n",
    "        if 'href' in str(film):\n",
    "            continue\n",
    "        else:\n",
    "            filmlist.append(film.text)\n",
    "    films = page.findAll('div', class_ = \"sessions_cinema_block\")\n",
    "    for film in films:\n",
    "        cinema_id = 0\n",
    "        name = filmlist.pop(0)\n",
    "        cinema_id = cinema_id_get(name, cursor.execute('select * from cinemas').fetchall())\n",
    "        date = datetime.today().strftime('%Y-%m-%d')\n",
    "        sessions = film.findAll('a', class_ = \"shedule-data\")\n",
    "        for session in sessions:\n",
    "            info = tab_delete(session.text).split(' ')\n",
    "            time = info[0]\n",
    "            if len(info[6]) > 1:\n",
    "                price = info[6]\n",
    "            else:\n",
    "                price = info[5]\n",
    "            values = [cinema_id, 42, name, date, time, price]\n",
    "            try:\n",
    "                cursor.execute(\"insert into sessions (cinema_id, hall_id, name, date, time, price) values ({},{},'{}','{}', '{}', {})\".format(*values))\n",
    "            except sqlite3.OperationalError:\n",
    "                continue\n",
    "            conn.commit()"
   ]
  },
  {
   "cell_type": "code",
   "execution_count": 67,
   "metadata": {},
   "outputs": [],
   "source": [
    "r8 = requests.get(url2)\n",
    "if r8.status_code == 200:\n",
    "    page = BeautifulSoup(r8.text, 'html.parser')\n",
    "    films = page.findAll('h3')\n",
    "    filmlist = []\n",
    "    for film in films:\n",
    "        if 'href' in str(film):\n",
    "            continue\n",
    "        else:\n",
    "            filmlist.append(film.text)\n",
    "    films = page.findAll('div', class_ = \"sessions_cinema_block\")\n",
    "    for film in films:\n",
    "        cinema_id = 0\n",
    "        name = filmlist.pop(0)\n",
    "        cinema_id = cinema_id_get(name, cursor.execute('select * from cinemas').fetchall())\n",
    "        date = datetime.today().strftime('%Y-%m-%d')\n",
    "        sessions = film.findAll('a', class_ = \"shedule-data\")\n",
    "        for session in sessions:\n",
    "            info = tab_delete(session.text).split(' ')\n",
    "            time = info[0]\n",
    "            if len(info[6]) > 1:\n",
    "                price = info[6]\n",
    "            else:\n",
    "                price = info[5]\n",
    "            values = [cinema_id, 43, name, date, time, price]\n",
    "            try:\n",
    "                cursor.execute(\"insert into sessions (cinema_id, hall_id, name, date, time, price) values ({},{},'{}','{}', '{}', {})\".format(*values))\n",
    "            except sqlite3.OperationalError:\n",
    "                continue\n",
    "            conn.commit()"
   ]
  },
  {
   "cell_type": "code",
   "execution_count": 68,
   "metadata": {},
   "outputs": [],
   "source": [
    "#cursor.execute('drop table sessions')"
   ]
  },
  {
   "cell_type": "code",
   "execution_count": 4,
   "metadata": {},
   "outputs": [
    {
     "data": {
      "text/plain": [
       "<sqlite3.Cursor at 0x1d9bb88a570>"
      ]
     },
     "execution_count": 4,
     "metadata": {},
     "output_type": "execute_result"
    }
   ],
   "source": [
    "#cursor.execute('drop table cinema_halls')"
   ]
  },
  {
   "cell_type": "code",
   "execution_count": 12,
   "metadata": {},
   "outputs": [
    {
     "data": {
      "text/plain": [
       "'2019-12-19'"
      ]
     },
     "execution_count": 12,
     "metadata": {},
     "output_type": "execute_result"
    }
   ],
   "source": [
    "date = datetime.today().strftime('%Y-%m-%d')\n",
    "date"
   ]
  },
  {
   "cell_type": "code",
   "execution_count": null,
   "metadata": {},
   "outputs": [],
   "source": []
  }
 ],
 "metadata": {
  "kernelspec": {
   "display_name": "Python 3",
   "language": "python",
   "name": "python3"
  },
  "language_info": {
   "codemirror_mode": {
    "name": "ipython",
    "version": 3
   },
   "file_extension": ".py",
   "mimetype": "text/x-python",
   "name": "python",
   "nbconvert_exporter": "python",
   "pygments_lexer": "ipython3",
   "version": "3.7.4"
  }
 },
 "nbformat": 4,
 "nbformat_minor": 2
}
